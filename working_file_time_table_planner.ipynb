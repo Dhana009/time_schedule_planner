{
 "cells": [
  {
   "cell_type": "code",
   "execution_count": null,
   "id": "896f2852",
   "metadata": {},
   "outputs": [],
   "source": [
    "import pandas as pd\n",
    "import numpy as np\n",
    "import math as m"
   ]
  },
  {
   "cell_type": "code",
   "execution_count": null,
   "id": "34aa0381",
   "metadata": {},
   "outputs": [],
   "source": [
    "columns = ['date', 'toal_time_available', 'total_break_time', 'total_sessions']"
   ]
  },
  {
   "cell_type": "code",
   "execution_count": null,
   "id": "455b145f",
   "metadata": {},
   "outputs": [],
   "source": [
    "table = pd.DataFrame(columns=columns)"
   ]
  },
  {
   "cell_type": "code",
   "execution_count": null,
   "id": "c6c1c2a8",
   "metadata": {},
   "outputs": [],
   "source": [
    "date = input('enter the date : ')\n",
    "toal_time_available = int(input('enter the total time available : '))\n",
    "total_break_time = int(input('enter the total_break_time : '))\n",
    "total_sessions = int(input('enter the total_sessions required : '))"
   ]
  },
  {
   "cell_type": "code",
   "execution_count": null,
   "id": "96b1cd05",
   "metadata": {},
   "outputs": [],
   "source": [
    "table.loc[0,table.columns[0]] = date\n",
    "table.loc[0,table.columns[1]] = toal_time_available\n",
    "table.loc[0,table.columns[2]] = total_break_time\n",
    "table.loc[0,table.columns[3]] = total_sessions"
   ]
  },
  {
   "cell_type": "code",
   "execution_count": null,
   "id": "c1c335ac",
   "metadata": {},
   "outputs": [],
   "source": [
    "table.to_csv(f'table.columns[0]_date_timetable_plan.csv',index=False)"
   ]
  },
  {
   "cell_type": "code",
   "execution_count": null,
   "id": "194631ee",
   "metadata": {},
   "outputs": [],
   "source": [
    "pd.read_csv('table.columns[0]_date_timetable_plan.csv')"
   ]
  },
  {
   "cell_type": "code",
   "execution_count": null,
   "id": "8f26f3f2",
   "metadata": {},
   "outputs": [],
   "source": []
  },
  {
   "cell_type": "code",
   "execution_count": null,
   "id": "c17cfbb9",
   "metadata": {},
   "outputs": [],
   "source": [
    "import pandas as pd\n",
    "import numpy as np\n",
    "import math as m\n",
    "\n",
    "class plan :\n",
    "    columns = ['date', 'toal_time_available', 'total_break_time', 'total_sessions']\n",
    "    table = pd.DataFrame(columns=columns)\n",
    "    date = input('enter the date : ')\n",
    "    toal_time_available = int(input('enter the total time available : '))\n",
    "    total_break_time = int(input('enter the total_break_time : '))\n",
    "    total_sessions = int(input('enter the total_sessions required : '))\n",
    "    table.loc[0,table.columns[0]] = date\n",
    "    table.loc[0,table.columns[1]] = toal_time_available\n",
    "    table.loc[0,table.columns[2]] = total_break_time\n",
    "    table.loc[0,table.columns[3]] = total_sessions\n",
    "    table.to_csv(f'table.columns[0]_date_timetable_plan.csv',index=False)\n",
    "    pd.read_csv('date_timetable_plan.csv')"
   ]
  },
  {
   "cell_type": "code",
   "execution_count": null,
   "id": "358c9268",
   "metadata": {},
   "outputs": [],
   "source": [
    "import table_plan as tp"
   ]
  },
  {
   "cell_type": "code",
   "execution_count": null,
   "id": "86fc08ae",
   "metadata": {},
   "outputs": [],
   "source": [
    "today = tp.Table()"
   ]
  },
  {
   "cell_type": "code",
   "execution_count": null,
   "id": "97f875d1",
   "metadata": {},
   "outputs": [],
   "source": [
    "today.table_data()"
   ]
  },
  {
   "cell_type": "code",
   "execution_count": null,
   "id": "b3b13e07",
   "metadata": {},
   "outputs": [],
   "source": [
    "today.read_csv()"
   ]
  },
  {
   "cell_type": "code",
   "execution_count": null,
   "id": "54051355",
   "metadata": {},
   "outputs": [],
   "source": []
  },
  {
   "cell_type": "code",
   "execution_count": null,
   "id": "41acbb7a",
   "metadata": {},
   "outputs": [],
   "source": [
    "import pandas as pd\n",
    "import numpy as np\n",
    "import math as m\n",
    "import datetime as d\n",
    "\n",
    "class Table:\n",
    "    def __init__(self):\n",
    "        self.columns = ['date', 'total_time_available(h)', 'total_break_time_b_w_sessions(h)', 'total_work_time(h)', 'total_sessions','morning_slots(12am - 11:59 am)',\n",
    "                       'afternoon_slots(12pm - 6pm)','evening_slots(6pm - 11:59 pm)','tiffin_break(mins)','lunch_break(mins)','snacks_break(mins)',\n",
    "                       'dinner_break(mins)','entertainment_time(h)']\n",
    "        self.table = pd.DataFrame(columns=self.columns)\n",
    "        \n",
    "    def table_data(self):\n",
    "        try:\n",
    "            self.date = d.date.today()\n",
    "            self.total_time_available = int(input('Enter the total time available in hours: '))\n",
    "            self.total_break_time = int(input('Enter the total break time in hours: '))\n",
    "            self.total_sessions = int(input('Enter the total sessions required : '))\n",
    "            self.morning_slots = input('Enter the morning_slots in time intervals 4-12 or 5-12 or 6-12 or 12-9 : ')\n",
    "            self.afternoon_slots = input('Enter the afternoon_slots in time intervals 12-6 or 12-6 or 12-6 or 0  : ')\n",
    "            self.evening_slots = input('Enter the evening_slots in time intervals 6-8 or 6-9 or 6-10 or 5-12 : ')\n",
    "            self.tiffin_break = input('Enter the tiffin_break_slots in mins : ')\n",
    "            self.lunch_break = input('Enter the lunch_break_slots in mins : ')\n",
    "            self.snacks_break_slots = input('Enter the snacks_break_slots in mins : ')\n",
    "            self.dinner_break_slots = input('Enter the dinner_break_slots in mins : ')\n",
    "            self.entertainment_time = input('Enter the entertainment_time_break_slots in mins : ')\n",
    "\n",
    "            self.table.loc[0, self.table.columns[0]] = self.date\n",
    "            self.table.loc[0, self.table.columns[1]] = self.total_time_available\n",
    "            self.table.loc[0, self.table.columns[2]] = self.total_break_time\n",
    "            self.table.loc[0, self.table.columns[4]] = self.total_sessions\n",
    "            self.table.loc[0, self.table.columns[5]] = self.morning_slots\n",
    "            self.table.loc[0, self.table.columns[6]] = self.afternoon_slots\n",
    "            self.table.loc[0, self.table.columns[7]] = self.evening_slots\n",
    "            self.table.loc[0, self.table.columns[3]] = self.total_time_available - self.total_break_time\n",
    "            self.table.loc[0, self.table.columns[8]] = self.tiffin_break\n",
    "            self.table.loc[0, self.table.columns[9]] = self.lunch_break\n",
    "            self.table.loc[0, self.table.columns[10]] = self.snacks_break_slots\n",
    "            self.table.loc[0, self.table.columns[11]] = self.dinner_break_slots\n",
    "            self.table.loc[0, self.table.columns[12]] = self.entertainment_time\n",
    "            \n",
    "\n",
    "            self.table.to_csv(f'{self.date}_timetable_plan.csv', index=False)\n",
    "            \n",
    "        except Exception as e:\n",
    "            print(e)\n",
    "        \n",
    "    def read_csv(self):\n",
    "        try:\n",
    "            return pd.read_csv(f'{self.date}_timetable_plan.csv')\n",
    "        except Exception as e:\n",
    "            print(e)\n"
   ]
  },
  {
   "cell_type": "code",
   "execution_count": 1,
   "id": "4146da15",
   "metadata": {},
   "outputs": [],
   "source": [
    "import table_plan\n",
    "one = table_plan.Table()"
   ]
  },
  {
   "cell_type": "code",
   "execution_count": 2,
   "id": "18743838",
   "metadata": {},
   "outputs": [
    {
     "name": "stdout",
     "output_type": "stream",
     "text": [
      "Enter the break_time_b_w_session in mins : 10\n",
      "Enter the total sessions required : 6\n",
      "Enter the any input select 0 for 4-12 or 1 for 5-12 or 2 for 6-12 or 3 for 12-9 : 1\n"
     ]
    }
   ],
   "source": [
    "one.table_data()"
   ]
  },
  {
   "cell_type": "code",
   "execution_count": 3,
   "id": "59fa9aa0",
   "metadata": {},
   "outputs": [],
   "source": [
    "a = one.read_csv()"
   ]
  },
  {
   "cell_type": "code",
   "execution_count": 4,
   "id": "34fe5936",
   "metadata": {},
   "outputs": [
    {
     "data": {
      "text/html": [
       "<div>\n",
       "<style scoped>\n",
       "    .dataframe tbody tr th:only-of-type {\n",
       "        vertical-align: middle;\n",
       "    }\n",
       "\n",
       "    .dataframe tbody tr th {\n",
       "        vertical-align: top;\n",
       "    }\n",
       "\n",
       "    .dataframe thead th {\n",
       "        text-align: right;\n",
       "    }\n",
       "</style>\n",
       "<table border=\"1\" class=\"dataframe\">\n",
       "  <thead>\n",
       "    <tr style=\"text-align: right;\">\n",
       "      <th></th>\n",
       "      <th>date</th>\n",
       "      <th>total_time_available(h)</th>\n",
       "      <th>break_time_b_w_session(mins)</th>\n",
       "      <th>total_work_time(h)</th>\n",
       "      <th>total_sessions</th>\n",
       "      <th>morning_slots(12am - 11:59 am)</th>\n",
       "      <th>afternoon_slots(12pm - 6pm)</th>\n",
       "      <th>evening_slots(6pm-11:59pm)</th>\n",
       "      <th>tiffin_break(mins)</th>\n",
       "      <th>lunch_break(mins)</th>\n",
       "      <th>snacks_break(mins)</th>\n",
       "      <th>dinner_break(mins)</th>\n",
       "      <th>entertainment_time(h)</th>\n",
       "      <th>time_per_slot(mins)</th>\n",
       "    </tr>\n",
       "  </thead>\n",
       "  <tbody>\n",
       "    <tr>\n",
       "      <th>0</th>\n",
       "      <td>2023-06-05</td>\n",
       "      <td>16</td>\n",
       "      <td>10</td>\n",
       "      <td>12.0</td>\n",
       "      <td>6</td>\n",
       "      <td>5:00 am - 12:00 pm</td>\n",
       "      <td>12:00 pm - 6:00 pm</td>\n",
       "      <td>6:00 pm - 9:00 pm</td>\n",
       "      <td>30</td>\n",
       "      <td>30</td>\n",
       "      <td>30</td>\n",
       "      <td>30</td>\n",
       "      <td>60</td>\n",
       "      <td>120.0</td>\n",
       "    </tr>\n",
       "  </tbody>\n",
       "</table>\n",
       "</div>"
      ],
      "text/plain": [
       "         date  total_time_available(h)  break_time_b_w_session(mins)  \\\n",
       "0  2023-06-05                       16                            10   \n",
       "\n",
       "   total_work_time(h)  total_sessions morning_slots(12am - 11:59 am)  \\\n",
       "0                12.0               6             5:00 am - 12:00 pm   \n",
       "\n",
       "  afternoon_slots(12pm - 6pm) evening_slots(6pm-11:59pm)  tiffin_break(mins)  \\\n",
       "0          12:00 pm - 6:00 pm          6:00 pm - 9:00 pm                  30   \n",
       "\n",
       "   lunch_break(mins)  snacks_break(mins)  dinner_break(mins)  \\\n",
       "0                 30                  30                  30   \n",
       "\n",
       "   entertainment_time(h)  time_per_slot(mins)  \n",
       "0                     60                120.0  "
      ]
     },
     "execution_count": 4,
     "metadata": {},
     "output_type": "execute_result"
    }
   ],
   "source": [
    "a"
   ]
  },
  {
   "cell_type": "code",
   "execution_count": null,
   "id": "f31c0aaf",
   "metadata": {},
   "outputs": [],
   "source": [
    "total_time_for_one_session = (a['total_work_time(h)']/a['total_sessions'])*60"
   ]
  },
  {
   "cell_type": "code",
   "execution_count": null,
   "id": "a90e4ef8",
   "metadata": {},
   "outputs": [],
   "source": [
    "total_time_for_one_break = (a['total_break_time(h)']/a['total_sessions'])*60"
   ]
  },
  {
   "cell_type": "code",
   "execution_count": null,
   "id": "c451cda2",
   "metadata": {},
   "outputs": [],
   "source": [
    "total_time_for_one_break"
   ]
  },
  {
   "cell_type": "code",
   "execution_count": null,
   "id": "e5527282",
   "metadata": {},
   "outputs": [],
   "source": [
    "total_time_for_one_session"
   ]
  },
  {
   "cell_type": "code",
   "execution_count": null,
   "id": "880b5034",
   "metadata": {},
   "outputs": [],
   "source": []
  },
  {
   "cell_type": "code",
   "execution_count": null,
   "id": "dfcbc5ee",
   "metadata": {},
   "outputs": [],
   "source": []
  },
  {
   "cell_type": "code",
   "execution_count": null,
   "id": "d67495de",
   "metadata": {},
   "outputs": [],
   "source": [
    "import pandas as pd\n",
    "import numpy as np\n",
    "import math as m\n",
    "import datetime as d\n",
    "\n",
    "class Table:\n",
    "    def __init__(self):\n",
    "        self.columns = ['date', 'total_time_available(h)','break_time_b_w_session(mins)','total_work_time(h)','total_sessions','morning_slots(12am - 11:59 am)',\n",
    "'afternoon_slots(12pm - 6pm)','evening_slots(6pm-11:59pm)','tiffin_break(mins)','lunch_break(mins)','snacks_break(mins)',\n",
    "'dinner_break(mins)','entertainment_time(h)','time_per_slot(mins)']\n",
    "        self.table = pd.DataFrame(columns=self.columns)\n",
    "        \n",
    "    def table_data(self):\n",
    "        try:\n",
    "            self.date = d.date.today()\n",
    "            self.total_time_available = 16\n",
    "            self.single_break_time = int(input('Enter the break_time_b_w_session in mins : '))\n",
    "            self.total_sessions = int(input('Enter the total sessions required : '))\n",
    "            self.slot_select = int(input('Enter the any input select 0 for 4-12 or 1 for 5-12 or 2 for 6-12 or 3 for 12-9 : '))\n",
    "            #self.afternoon_slots = input('Enter the afternoon_slots in time intervals 12-6 or 12-6 or 12-6 or 0  : ')\n",
    "            #self.evening_slots = input('Enter the evening_slots in time intervals 6-8 or 6-9 or 6-10 or 5-12 : ')\n",
    "            #self.tiffin_break = input('Enter the tiffin_break_slots in mins : ')\n",
    "            #self.lunch_break = input('Enter the lunch_break_slots in mins : ')\n",
    "            #self.snacks_break_slots = input('Enter the snacks_break_slots in mins : ')\n",
    "            #self.dinner_break_slots = input('Enter the dinner_break_slots in mins : ')\n",
    "            #self.entertainment_time = input('Enter the entertainment_time_break_slots in mins : ')\n",
    "            \n",
    "            self.slots =[['4:00 am - 12:00 pm','12:00 pm - 6:00 pm','6:00 pm - 8:00 pm'],\n",
    "                    ['5:00 am - 12:00 pm','12:00 pm - 6:00 pm','6:00 pm - 9:00 pm'],\n",
    "                   ['6:00 am - 12:00 pm','12:00 pm - 6:00 pm','6:00 pm - 10:00 pm'],\n",
    "                   ['12:00 am - 9:00 am',np.nan,'5:00 pm - 12:00 pm']]\n",
    "\n",
    "            self.table.loc[0, self.table.columns[0]] = self.date\n",
    "            self.table.loc[0, self.table.columns[1]] = self.total_time_available\n",
    "            self.table.loc[0, self.table.columns[2]] = self.single_break_time\n",
    "            self.table.loc[0, self.table.columns[4]] = self.total_sessions\n",
    "            self.table.loc[0, self.table.columns[5]] = self.slots[self.slot_select][0]\n",
    "            self.table.loc[0, self.table.columns[6]] = self.slots[self.slot_select][1]\n",
    "            self.table.loc[0, self.table.columns[7]] = self.slots[self.slot_select][2]\n",
    "            self.table.loc[0, self.table.columns[3]] = 13 - (self.single_break_time*self.total_sessions)/60\n",
    "            self.table.loc[0, self.table.columns[8]] = 30\n",
    "            self.table.loc[0, self.table.columns[9]] = 30\n",
    "            self.table.loc[0, self.table.columns[10]] = 30\n",
    "            self.table.loc[0, self.table.columns[11]] = 30\n",
    "            self.table.loc[0, self.table.columns[12]] = 60\n",
    "            self.table.loc[0, self.table.columns[13]] = ((13 - (self.single_break_time*self.total_sessions)/60)*60)/(self.total_sessions)\n",
    "\n",
    "            self.table.to_csv(f'{self.date}_timetable_plan.csv', index=False)\n",
    "            \n",
    "        except Exception as e:\n",
    "            print(e)\n",
    "        \n",
    "    def read_csv(self):\n",
    "        try:\n",
    "            return pd.read_csv(f'{self.date}_timetable_plan.csv')\n",
    "            \n",
    "        except Exception as e:\n",
    "            print(e)\n"
   ]
  },
  {
   "cell_type": "code",
   "execution_count": null,
   "id": "15896bd8",
   "metadata": {},
   "outputs": [],
   "source": [
    "one = Table()"
   ]
  },
  {
   "cell_type": "code",
   "execution_count": null,
   "id": "b11c8244",
   "metadata": {},
   "outputs": [],
   "source": [
    "one.table_data()"
   ]
  },
  {
   "cell_type": "code",
   "execution_count": null,
   "id": "55c1c8e5",
   "metadata": {},
   "outputs": [],
   "source": [
    "a = one.read_csv()"
   ]
  },
  {
   "cell_type": "code",
   "execution_count": null,
   "id": "5735aa5c",
   "metadata": {},
   "outputs": [],
   "source": [
    "a"
   ]
  },
  {
   "cell_type": "code",
   "execution_count": null,
   "id": "dff9ed0b",
   "metadata": {},
   "outputs": [],
   "source": [
    "a.loc[0]"
   ]
  },
  {
   "cell_type": "code",
   "execution_count": null,
   "id": "c43d6e75",
   "metadata": {},
   "outputs": [],
   "source": []
  }
 ],
 "metadata": {
  "kernelspec": {
   "display_name": "Python 3 (ipykernel)",
   "language": "python",
   "name": "python3"
  },
  "language_info": {
   "codemirror_mode": {
    "name": "ipython",
    "version": 3
   },
   "file_extension": ".py",
   "mimetype": "text/x-python",
   "name": "python",
   "nbconvert_exporter": "python",
   "pygments_lexer": "ipython3",
   "version": "3.10.9"
  }
 },
 "nbformat": 4,
 "nbformat_minor": 5
}
