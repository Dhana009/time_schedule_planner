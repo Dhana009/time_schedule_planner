{
 "cells": [
  {
   "cell_type": "code",
   "execution_count": 1,
   "id": "0a086087",
   "metadata": {},
   "outputs": [],
   "source": [
    "import table_plan"
   ]
  },
  {
   "cell_type": "code",
   "execution_count": 8,
   "id": "3e61842a",
   "metadata": {},
   "outputs": [],
   "source": [
    "today = table_plan.Table()"
   ]
  },
  {
   "cell_type": "code",
   "execution_count": 10,
   "id": "93b4fbab",
   "metadata": {},
   "outputs": [
    {
     "name": "stdout",
     "output_type": "stream",
     "text": [
      "Enter the break_time_b_w_session in mins : 20\n",
      "Enter the total sessions required : 6\n",
      "Enter the any input select 0 for 4-12 or 1 for 5-12 or 2 for 6-12 or 3 for 12-9 : 1\n"
     ]
    }
   ],
   "source": [
    "today.table_data()"
   ]
  },
  {
   "cell_type": "code",
   "execution_count": 14,
   "id": "39a40f7c",
   "metadata": {},
   "outputs": [
    {
     "data": {
      "text/html": [
       "<div>\n",
       "<style scoped>\n",
       "    .dataframe tbody tr th:only-of-type {\n",
       "        vertical-align: middle;\n",
       "    }\n",
       "\n",
       "    .dataframe tbody tr th {\n",
       "        vertical-align: top;\n",
       "    }\n",
       "\n",
       "    .dataframe thead th {\n",
       "        text-align: right;\n",
       "    }\n",
       "</style>\n",
       "<table border=\"1\" class=\"dataframe\">\n",
       "  <thead>\n",
       "    <tr style=\"text-align: right;\">\n",
       "      <th></th>\n",
       "      <th>date</th>\n",
       "      <th>total_time_available(h)</th>\n",
       "      <th>break_time_b_w_session(mins)</th>\n",
       "      <th>total_work_time(h)</th>\n",
       "      <th>total_sessions</th>\n",
       "      <th>morning_slots(12am - 11:59 am)</th>\n",
       "      <th>afternoon_slots(12pm - 6pm)</th>\n",
       "      <th>evening_slots(6pm-11:59pm)</th>\n",
       "      <th>tiffin_break(mins)</th>\n",
       "      <th>lunch_break(mins)</th>\n",
       "      <th>snacks_break(mins)</th>\n",
       "      <th>dinner_break(mins)</th>\n",
       "      <th>entertainment_time(h)</th>\n",
       "      <th>time_per_slot(mins)</th>\n",
       "    </tr>\n",
       "  </thead>\n",
       "  <tbody>\n",
       "    <tr>\n",
       "      <th>0</th>\n",
       "      <td>2023-06-05</td>\n",
       "      <td>16</td>\n",
       "      <td>20</td>\n",
       "      <td>11.0</td>\n",
       "      <td>6</td>\n",
       "      <td>5:00 am - 12:00 pm</td>\n",
       "      <td>12:00 pm - 6:00 pm</td>\n",
       "      <td>6:00 pm - 9:00 pm</td>\n",
       "      <td>30</td>\n",
       "      <td>30</td>\n",
       "      <td>30</td>\n",
       "      <td>30</td>\n",
       "      <td>60</td>\n",
       "      <td>110.0</td>\n",
       "    </tr>\n",
       "  </tbody>\n",
       "</table>\n",
       "</div>"
      ],
      "text/plain": [
       "         date  total_time_available(h)  break_time_b_w_session(mins)  \\\n",
       "0  2023-06-05                       16                            20   \n",
       "\n",
       "   total_work_time(h)  total_sessions morning_slots(12am - 11:59 am)  \\\n",
       "0                11.0               6             5:00 am - 12:00 pm   \n",
       "\n",
       "  afternoon_slots(12pm - 6pm) evening_slots(6pm-11:59pm)  tiffin_break(mins)  \\\n",
       "0          12:00 pm - 6:00 pm          6:00 pm - 9:00 pm                  30   \n",
       "\n",
       "   lunch_break(mins)  snacks_break(mins)  dinner_break(mins)  \\\n",
       "0                 30                  30                  30   \n",
       "\n",
       "   entertainment_time(h)  time_per_slot(mins)  \n",
       "0                     60                110.0  "
      ]
     },
     "execution_count": 14,
     "metadata": {},
     "output_type": "execute_result"
    }
   ],
   "source": [
    "data = today.read_csv()\n",
    "data"
   ]
  },
  {
   "cell_type": "code",
   "execution_count": 13,
   "id": "38971109",
   "metadata": {},
   "outputs": [
    {
     "data": {
      "text/plain": [
       "date                                      2023-06-05\n",
       "total_time_available(h)                           16\n",
       "break_time_b_w_session(mins)                      20\n",
       "total_work_time(h)                              11.0\n",
       "total_sessions                                     6\n",
       "morning_slots(12am - 11:59 am)    5:00 am - 12:00 pm\n",
       "afternoon_slots(12pm - 6pm)       12:00 pm - 6:00 pm\n",
       "evening_slots(6pm-11:59pm)         6:00 pm - 9:00 pm\n",
       "tiffin_break(mins)                                30\n",
       "lunch_break(mins)                                 30\n",
       "snacks_break(mins)                                30\n",
       "dinner_break(mins)                                30\n",
       "entertainment_time(h)                             60\n",
       "time_per_slot(mins)                            110.0\n",
       "Name: 0, dtype: object"
      ]
     },
     "execution_count": 13,
     "metadata": {},
     "output_type": "execute_result"
    }
   ],
   "source": [
    "data.loc[0]"
   ]
  },
  {
   "cell_type": "code",
   "execution_count": null,
   "id": "8874a68d",
   "metadata": {},
   "outputs": [],
   "source": []
  }
 ],
 "metadata": {
  "kernelspec": {
   "display_name": "Python 3 (ipykernel)",
   "language": "python",
   "name": "python3"
  },
  "language_info": {
   "codemirror_mode": {
    "name": "ipython",
    "version": 3
   },
   "file_extension": ".py",
   "mimetype": "text/x-python",
   "name": "python",
   "nbconvert_exporter": "python",
   "pygments_lexer": "ipython3",
   "version": "3.10.9"
  }
 },
 "nbformat": 4,
 "nbformat_minor": 5
}
